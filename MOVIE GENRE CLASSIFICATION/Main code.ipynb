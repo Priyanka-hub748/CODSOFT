{
 "cells": [
  {
   "cell_type": "code",
   "execution_count": null,
   "id": "7c367d3b",
   "metadata": {},
   "outputs": [],
   "source": [
    "import pandas as pd\n",
    "from sklearn.feature_extraction.text import TfidfVectorizer\n",
    "from sklearn.linear_model import LogisticRegression\n",
    "import joblib\n"
   ]
  },
  {
   "cell_type": "code",
   "execution_count": null,
   "id": "02050d69",
   "metadata": {},
   "outputs": [],
   "source": [
    "def load_training_data():\n",
    "    path = r\"D:\\Priyanka\\MOVIE GENRE CLASSIFICATION\\archive\\Genre Classification Dataset\\train_data.txt\"\n",
    "    genres = []\n",
    "    descriptions = []\n",
    "\n",
    "    with open(path, 'r', encoding='utf-8') as f:\n",
    "        for line in f:\n",
    "            parts = line.strip().split(\" ::: \")\n",
    "            if len(parts) == 4:\n",
    "                genres.append(parts[2].strip())\n",
    "                descriptions.append(parts[3].strip())\n",
    "\n",
    "    return pd.DataFrame({'genre': genres, 'description': descriptions})\n"
   ]
  },
  {
   "cell_type": "code",
   "execution_count": null,
   "id": "7d24eb31",
   "metadata": {},
   "outputs": [],
   "source": [
    "def load_test_data():\n",
    "    path = r\"D:\\Priyanka\\MOVIE GENRE CLASSIFICATION\\archive\\Genre Classification Dataset\\test_data.txt\"\n",
    "    descriptions = []\n",
    "\n",
    "    with open(path, 'r', encoding='utf-8') as f:\n",
    "        for line in f:\n",
    "            parts = line.strip().split(\" ::: \")\n",
    "            if len(parts) == 3:\n",
    "                descriptions.append(parts[2].strip())\n",
    "\n",
    "    return descriptions\n"
   ]
  },
  {
   "cell_type": "code",
   "execution_count": null,
   "id": "39f441e0",
   "metadata": {},
   "outputs": [],
   "source": [
    "def train_and_save_model():\n",
    "    df = load_training_data()\n",
    "    tfidf = TfidfVectorizer(stop_words='english', max_features=5000)\n",
    "    X = tfidf.fit_transform(df['description'])\n",
    "    y = df['genre']\n",
    "\n",
    "    model = LogisticRegression(max_iter=1000)\n",
    "    model.fit(X, y)\n",
    "\n",
    "    joblib.dump(model, 'genre_model.pkl')\n",
    "    joblib.dump(tfidf, 'tfidf_vectorizer.pkl')\n",
    "    print(\" Model and vectorizer saved.\")\n"
   ]
  },
  {
   "cell_type": "code",
   "execution_count": null,
   "id": "1ccc701f",
   "metadata": {},
   "outputs": [],
   "source": [
    "def predict_test_file():\n",
    "    model = joblib.load('genre_model.pkl')\n",
    "    tfidf = joblib.load('tfidf_vectorizer.pkl')\n",
    "    test_data = load_test_data()\n",
    "    X_test = tfidf.transform(test_data)\n",
    "    predictions = model.predict(X_test)\n",
    "\n",
    "   \n"
   ]
  },
  {
   "cell_type": "code",
   "execution_count": null,
   "id": "54d98e4c",
   "metadata": {},
   "outputs": [],
   "source": [
    "\n",
    "\n",
    "\n",
    "def predict_test_file():\n",
    "    model = joblib.load('genre_model.pkl')\n",
    "    tfidf = joblib.load('tfidf_vectorizer.pkl')\n",
    "    test_data = load_test_data()\n",
    "    X_test = tfidf.transform(test_data)\n",
    "    predictions = model.predict(X_test)\n",
    "\n",
    "    for genre in predictions:\n",
    "        print(f\" Predicted Genre: {genre}\")\n"
   ]
  },
  {
   "cell_type": "code",
   "execution_count": null,
   "id": "b9406a8e",
   "metadata": {},
   "outputs": [],
   "source": [
    "\n",
    "predict_test_file()\n"
   ]
  },
  {
   "cell_type": "code",
   "execution_count": null,
   "id": "ad9420a2",
   "metadata": {},
   "outputs": [],
   "source": [
    "def predict_from_user():\n",
    "    model = joblib.load('genre_model.pkl')\n",
    "    tfidf = joblib.load('tfidf_vectorizer.pkl')\n",
    "\n",
    "    print(\"\\nType a movie plot to predict its genre (or type 'exit'):\")\n",
    "    while True:\n",
    "        text = input(\"Plot: \")\n",
    "        if text.lower() == 'exit':\n",
    "            break\n",
    "        vector = tfidf.transform([text])\n",
    "        genre = model.predict(vector)[0]\n",
    "        print(f\" Predicted Genre: {genre}\\n\")\n"
   ]
  },
  {
   "cell_type": "code",
   "execution_count": null,
   "id": "41251196",
   "metadata": {},
   "outputs": [],
   "source": [
    "predict_from_user()"
   ]
  }
 ],
 "metadata": {
  "kernelspec": {
   "display_name": "Python 3",
   "language": "python",
   "name": "python3"
  },
  "language_info": {
   "codemirror_mode": {
    "name": "ipython",
    "version": 3
   },
   "file_extension": ".py",
   "mimetype": "text/x-python",
   "name": "python",
   "nbconvert_exporter": "python",
   "pygments_lexer": "ipython3",
   "version": "3.10.11"
  }
 },
 "nbformat": 4,
 "nbformat_minor": 5
}
